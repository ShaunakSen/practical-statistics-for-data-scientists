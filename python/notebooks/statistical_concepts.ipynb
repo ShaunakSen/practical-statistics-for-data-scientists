{
 "cells": [
  {
   "cell_type": "markdown",
   "metadata": {},
   "source": [
    "## Applied Statistics Problems\n",
    "\n",
    "### 1. Simulate 7 sided dice throw using a 6 sided dice\n",
    "\n",
    "> https://www.youtube.com/watch?v=xGNlOWjqgmo&pp=ygUfZ29vZ2xlIGRhdGEgc2NpZW50aXN0IGludGVydmlldw%3D%3D\n",
    "\n",
    "---\n",
    "\n",
    "Approach:\n",
    "\n",
    "The main problem is that the outcome space we want is 1-7 but we are constricted to 1-6\n",
    "\n",
    "So we can simply throw 1-6 twice (throw the 6 sided dice twice)\n",
    "\n",
    "We then map the sample space to expected sample space\n",
    "\n",
    "```\n",
    "Total sample space : 36 : 11,12,13,14, ... 63,64,65,66\n",
    "\n",
    "36/7 = 5 and 1 will remain\n",
    "\n",
    "So 66\n",
    "\n",
    "11 ... 21: 1\n",
    "22 ... 32: 2 \n",
    "...\n",
    "55 ... 65: 7\n",
    "\n",
    "if 66 -> retry\n",
    "```"
   ]
  },
  {
   "cell_type": "markdown",
   "metadata": {},
   "source": [
    "#### Simplified approach\n",
    "\n",
    "Simply hardcode the expected mapping\n",
    "```\n",
    "11 - 1\n",
    "12 - 2\n",
    "13 - 3\n",
    "14 - 4\n",
    "15 - 5\n",
    "16 - 6\n",
    "21 - 7\n",
    "```\n",
    "\n",
    "if anything other than these -> retry\n",
    "\n",
    "Problem: here there will be lots of retries"
   ]
  },
  {
   "cell_type": "code",
   "execution_count": 1,
   "metadata": {},
   "outputs": [],
   "source": [
    "import numpy as np\n",
    "import random"
   ]
  },
  {
   "cell_type": "code",
   "execution_count": 2,
   "metadata": {},
   "outputs": [],
   "source": [
    "def create_sample_space() -> list:\n",
    "    sample_space = []\n",
    "    for i in range(1, 7):\n",
    "        for j in range(1, 7):\n",
    "            sample_space.append(int(f\"{i}{j}\"))\n",
    "\n",
    "    return sample_space"
   ]
  },
  {
   "cell_type": "code",
   "execution_count": 3,
   "metadata": {},
   "outputs": [],
   "source": [
    "sample_space = create_sample_space()"
   ]
  },
  {
   "cell_type": "code",
   "execution_count": 5,
   "metadata": {},
   "outputs": [
    {
     "name": "stdout",
     "output_type": "stream",
     "text": [
      "[11, 12, 13, 14, 15, 16, 21, 22, 23, 24, 25, 26, 31, 32, 33, 34, 35, 36, 41, 42, 43, 44, 45, 46, 51, 52, 53, 54, 55, 56, 61, 62, 63, 64, 65, 66]\n"
     ]
    }
   ],
   "source": [
    "print (sample_space)"
   ]
  },
  {
   "cell_type": "code",
   "execution_count": 15,
   "metadata": {},
   "outputs": [
    {
     "data": {
      "text/plain": [
       "36"
      ]
     },
     "execution_count": 15,
     "metadata": {},
     "output_type": "execute_result"
    }
   ],
   "source": [
    "len(sample_space)"
   ]
  },
  {
   "cell_type": "code",
   "execution_count": 17,
   "metadata": {},
   "outputs": [
    {
     "data": {
      "text/plain": [
       "35"
      ]
     },
     "execution_count": 17,
     "metadata": {},
     "output_type": "execute_result"
    }
   ],
   "source": [
    "(36//7)*7"
   ]
  },
  {
   "cell_type": "code",
   "execution_count": 10,
   "metadata": {},
   "outputs": [],
   "source": [
    "def map_sample_space_to_outcome(sample_space: list, max_outcome: int) -> dict:\n",
    "    \"\"\"\n",
    "    Maps each element in the sample space to an outcome number, cycling through outcomes up to max_outcome.\n",
    "\n",
    "    Args:\n",
    "        sample_space (list): A list of elements representing the sample space.\n",
    "        max_outcome (int): The maximum outcome number to cycle through.\n",
    "\n",
    "    Returns:\n",
    "        dict: A dictionary mapping each element in the sample space to an outcome number.\n",
    "    \"\"\"\n",
    "    sample_space_to_outcomes = {}  # Initialize the dictionary to store the mappings\n",
    "    current_outcome = 1  # Start with the first outcome\n",
    "    sample_space_upper_limit = (len(sample_space) // max_outcome) * max_outcome  # Calculate the upper limit for the sample space\n",
    "\n",
    "    for i in range(0, sample_space_upper_limit):\n",
    "        if current_outcome > max_outcome:  # Reset the outcome number if it exceeds max_outcome\n",
    "            current_outcome = 1\n",
    "        sample_space_to_outcomes[sample_space[i]] = current_outcome  # Map the current sample space element to the current outcome\n",
    "        current_outcome += 1  # Increment the outcome number\n",
    "\n",
    "    return sample_space_to_outcomes"
   ]
  },
  {
   "cell_type": "code",
   "execution_count": 13,
   "metadata": {},
   "outputs": [],
   "source": [
    "sample_space_to_outcomes = map_sample_space_to_outcome(sample_space, 7)"
   ]
  },
  {
   "cell_type": "code",
   "execution_count": 14,
   "metadata": {},
   "outputs": [
    {
     "name": "stdout",
     "output_type": "stream",
     "text": [
      "{11: 1, 12: 2, 13: 3, 14: 4, 15: 5, 16: 6, 21: 7, 22: 1, 23: 2, 24: 3, 25: 4, 26: 5, 31: 6, 32: 7, 33: 1, 34: 2, 35: 3, 36: 4, 41: 5, 42: 6, 43: 7, 44: 1, 45: 2, 46: 3, 51: 4, 52: 5, 53: 6, 54: 7, 55: 1, 56: 2, 61: 3, 62: 4, 63: 5, 64: 6, 65: 7}\n"
     ]
    }
   ],
   "source": [
    "print (sample_space_to_outcomes)"
   ]
  },
  {
   "cell_type": "code",
   "execution_count": null,
   "metadata": {},
   "outputs": [],
   "source": [
    "### samity check to count the number of outcomes\n",
    "outcome_counts = {}\n",
    "\n",
    "for throw, outcome in sample_space_to_outcomes.items():\n",
    "    if outcome in outcome_counts:\n",
    "        outcome_counts[outcome] += 1\n",
    "    else:\n",
    "        outcome_counts[outcome] = 1"
   ]
  },
  {
   "cell_type": "code",
   "execution_count": 16,
   "metadata": {},
   "outputs": [
    {
     "data": {
      "text/plain": [
       "{1: 5, 2: 5, 3: 5, 4: 5, 5: 5, 6: 5, 7: 5}"
      ]
     },
     "execution_count": 16,
     "metadata": {},
     "output_type": "execute_result"
    }
   ],
   "source": [
    "outcome_counts"
   ]
  },
  {
   "cell_type": "code",
   "execution_count": 32,
   "metadata": {},
   "outputs": [
    {
     "data": {
      "text/plain": [
       "3"
      ]
     },
     "execution_count": 32,
     "metadata": {},
     "output_type": "execute_result"
    }
   ],
   "source": [
    "sample_space_to_outcomes[13]"
   ]
  },
  {
   "cell_type": "code",
   "execution_count": 17,
   "metadata": {},
   "outputs": [],
   "source": [
    "def simulate_throw(sample_space_to_outcomes: dict, trials: 10000):\n",
    "    \"\"\"\n",
    "    Function to simulate a given number of trials using the sample space to outcomes mapping.\n",
    "    \"\"\"\n",
    "    num_completed_trials = 0\n",
    "\n",
    "    outcome_counts = {}\n",
    "\n",
    "    while num_completed_trials < trials:\n",
    "        first_throw = random.randint(1, 6)\n",
    "        second_throw = random.randint(1, 6)\n",
    "\n",
    "        combined_throw = int(f\"{first_throw}{second_throw}\")\n",
    "\n",
    "        if combined_throw not in sample_space_to_outcomes:\n",
    "            continue\n",
    "\n",
    "        outcome = sample_space_to_outcomes[combined_throw]\n",
    "        if outcome not in outcome_counts:\n",
    "            outcome_counts[outcome] = 1\n",
    "        else:\n",
    "            outcome_counts[outcome] += 1\n",
    "\n",
    "        num_completed_trials += 1\n",
    "\n",
    "    return outcome_counts"
   ]
  },
  {
   "cell_type": "code",
   "execution_count": 18,
   "metadata": {},
   "outputs": [
    {
     "data": {
      "text/plain": [
       "{7: 0.01467,\n",
       " 4: 0.01497,\n",
       " 1: 0.01363,\n",
       " 5: 0.01465,\n",
       " 3: 0.01355,\n",
       " 2: 0.01442,\n",
       " 6: 0.01411}"
      ]
     },
     "execution_count": 18,
     "metadata": {},
     "output_type": "execute_result"
    }
   ],
   "source": [
    "N_TRIALS = 100000\n",
    "outcome_counts = simulate_throw(sample_space_to_outcomes, 10000)\n",
    "\n",
    "outcome_count_proportions = {k: v/N_TRIALS for k, v in outcome_counts.items()}\n",
    "\n",
    "outcome_count_proportions"
   ]
  },
  {
   "cell_type": "markdown",
   "metadata": {},
   "source": [
    "### Problem 2: Lazy Sorting\n",
    "\n",
    "> https://www.hackerrank.com/challenges/lazy-sorting/problem\n",
    "\n",
    "---"
   ]
  },
  {
   "cell_type": "markdown",
   "metadata": {},
   "source": [
    "This problem maps to a geometric distribution: https://www.youtube.com/watch?v=d5iAWPnrH6w&list=PL0o_zxa4K1BVsziIRdfv4Hl4UIqDZhXWV&index=55\n",
    "\n",
    "```\n",
    "p: success\n",
    "q: failure\n",
    "\n",
    "n: first success on nth try\n",
    "\n",
    "mean of this distribution: expected no of tries required\n",
    "\n",
    "mean = 1/p\n",
    "\n",
    "p = successful permutation/no of permutations possible \n",
    "\n",
    "p = 1 / no of permutations possible \n",
    "\n",
    "no of permutations possible  = N!/(r_1! r_2!, ...)\n",
    "\n",
    "where r_1, r_2 are the no of repititions\n",
    "\n",
    "eg : [1,1,3,4,4,6] -> 6!/(2!.2!)\n",
    "\n",
    "```\n"
   ]
  },
  {
   "cell_type": "code",
   "execution_count": 19,
   "metadata": {},
   "outputs": [],
   "source": [
    "import math"
   ]
  },
  {
   "cell_type": "code",
   "execution_count": 20,
   "metadata": {},
   "outputs": [],
   "source": [
    "def create_hashmap(P) -> dict:\n",
    "    hashmap = {}\n",
    "    for elem in P:\n",
    "        if elem not in hashmap:\n",
    "            hashmap[elem] = 1\n",
    "        else:\n",
    "            hashmap[elem] += 1\n",
    "    return hashmap\n",
    "        \n",
    "def find_num_repititions_penalty(hashmap: dict) -> list:\n",
    "    num_repititions_penalty = 1\n",
    "    \n",
    "    for elem in hashmap:\n",
    "        if hashmap[elem] > 1:\n",
    "            num_repititions_penalty *= math.factorial(hashmap[elem])\n",
    "            \n",
    "    return num_repititions_penalty\n",
    "        \n",
    "\n",
    "def solve(P):\n",
    "    # P = [2,2,3,3,5,6]\n",
    "    # print (P)\n",
    "    if P == sorted(P):\n",
    "        return round(float(0), 6)    \n",
    "    hashmap = create_hashmap(P)\n",
    "    # print (hashmap)\n",
    "    Dr = find_num_repititions_penalty(hashmap)\n",
    "    result = math.factorial(len(P))/Dr\n",
    "    # print(result)\n",
    "    return round(float(result), 6)    "
   ]
  },
  {
   "cell_type": "code",
   "execution_count": 22,
   "metadata": {},
   "outputs": [
    {
     "data": {
      "text/plain": [
       "360.0"
      ]
     },
     "execution_count": 22,
     "metadata": {},
     "output_type": "execute_result"
    }
   ],
   "source": [
    "solve([5,5,2,1,4,3])"
   ]
  },
  {
   "cell_type": "code",
   "execution_count": null,
   "metadata": {},
   "outputs": [],
   "source": []
  }
 ],
 "metadata": {
  "kernelspec": {
   "display_name": "nemo-new",
   "language": "python",
   "name": "python3"
  },
  "language_info": {
   "codemirror_mode": {
    "name": "ipython",
    "version": 3
   },
   "file_extension": ".py",
   "mimetype": "text/x-python",
   "name": "python",
   "nbconvert_exporter": "python",
   "pygments_lexer": "ipython3",
   "version": "3.10.10"
  }
 },
 "nbformat": 4,
 "nbformat_minor": 2
}
